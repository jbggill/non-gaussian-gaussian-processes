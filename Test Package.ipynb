{
 "cells": [
  {
   "cell_type": "code",
   "execution_count": 12,
   "id": "32c1aea9",
   "metadata": {},
   "outputs": [],
   "source": [
    "import numpy as np\n",
    "from methods.regression_methods import NGGP\n",
    "from run_regression import *\n",
    "from training.configs import Config as config\n",
    "from models import backbone\n",
    "import torch\n",
    "from argparse import Namespace\n",
    "from data.neural_loader import *\n"
   ]
  },
  {
   "cell_type": "code",
   "execution_count": 42,
   "id": "baa0a37f",
   "metadata": {},
   "outputs": [
    {
     "ename": "FileNotFoundError",
     "evalue": "[Errno 2] No such file or directory: '/Users/jessegill/Desktop/nggp/nggp_lib/save/nggp_rbf_neural --kernel_type rbf --stop_epoch 50000 --all_lr 1e-3 --use_conditional True --context_type backbone /checkpoints/neural/MLP2_NGGP_model.th'",
     "output_type": "error",
     "traceback": [
      "\u001b[0;31m---------------------------------------------------------------------------\u001b[0m",
      "\u001b[0;31mFileNotFoundError\u001b[0m                         Traceback (most recent call last)",
      "Cell \u001b[0;32mIn[42], line 2\u001b[0m\n\u001b[1;32m      1\u001b[0m save_path_th \u001b[38;5;241m=\u001b[39m \u001b[38;5;124m'\u001b[39m\u001b[38;5;124m/Users/jessegill/Desktop/nggp/nggp_lib/save/nggp_rbf_neural --kernel_type rbf --stop_epoch 50000 --all_lr 1e-3 --use_conditional True --context_type backbone /checkpoints/neural/MLP2_NGGP_model.th\u001b[39m\u001b[38;5;124m'\u001b[39m\n\u001b[0;32m----> 2\u001b[0m data \u001b[38;5;241m=\u001b[39m np\u001b[38;5;241m.\u001b[39mload(\u001b[38;5;124m'\u001b[39m\u001b[38;5;124m/Users/jessegill/Desktop/nggp/nggp_lib/save/nggp_rbf_neural --kernel_type rbf --stop_epoch 50000 --all_lr 1e-3 --use_conditional True --context_type backbone /checkpoints/neural/MLP2_NGGP_model.th\u001b[39m\u001b[38;5;124m'\u001b[39m, allow_pickle \u001b[38;5;241m=\u001b[39m \u001b[38;5;28;01mTrue\u001b[39;00m)\n\u001b[1;32m      3\u001b[0m params \u001b[38;5;241m=\u001b[39m Namespace(seed\u001b[38;5;241m=\u001b[39m\u001b[38;5;241m1\u001b[39m, model\u001b[38;5;241m=\u001b[39m\u001b[38;5;124m'\u001b[39m\u001b[38;5;124mMLP2\u001b[39m\u001b[38;5;124m'\u001b[39m, method\u001b[38;5;241m=\u001b[39m\u001b[38;5;124m'\u001b[39m\u001b[38;5;124mNGGP\u001b[39m\u001b[38;5;124m'\u001b[39m, dataset\u001b[38;5;241m=\u001b[39m\u001b[38;5;124m'\u001b[39m\u001b[38;5;124mneural\u001b[39m\u001b[38;5;124m'\u001b[39m, update_batch_size\u001b[38;5;241m=\u001b[39m\u001b[38;5;241m5\u001b[39m, meta_batch_size\u001b[38;5;241m=\u001b[39m\u001b[38;5;241m5\u001b[39m, output_dim\u001b[38;5;241m=\u001b[39m\u001b[38;5;241m40\u001b[39m, multidimensional_amp\u001b[38;5;241m=\u001b[39m\u001b[38;5;28;01mFalse\u001b[39;00m, multidimensional_phase\u001b[38;5;241m=\u001b[39m\u001b[38;5;28;01mFalse\u001b[39;00m, noise\u001b[38;5;241m=\u001b[39m\u001b[38;5;124m'\u001b[39m\u001b[38;5;124mgaussian\u001b[39m\u001b[38;5;124m'\u001b[39m, kernel_type\u001b[38;5;241m=\u001b[39m\u001b[38;5;124m'\u001b[39m\u001b[38;5;124mrbf\u001b[39m\u001b[38;5;124m'\u001b[39m, save_dir\u001b[38;5;241m=\u001b[39m\u001b[38;5;124m'\u001b[39m\u001b[38;5;124m./save/nggp_rbf_neural --kernel_type rbf --stop_epoch 50000 --all_lr 1e-3 --use_conditional True --context_type backbone \u001b[39m\u001b[38;5;124m'\u001b[39m, num_tasks\u001b[38;5;241m=\u001b[39m\u001b[38;5;241m1\u001b[39m, multi_type\u001b[38;5;241m=\u001b[39m\u001b[38;5;241m3\u001b[39m, method_lr\u001b[38;5;241m=\u001b[39m\u001b[38;5;241m0.001\u001b[39m, feature_extractor_lr\u001b[38;5;241m=\u001b[39m\u001b[38;5;241m0.001\u001b[39m, cnf_lr\u001b[38;5;241m=\u001b[39m\u001b[38;5;241m0.001\u001b[39m, all_lr\u001b[38;5;241m=\u001b[39m\u001b[38;5;28;01mNone\u001b[39;00m, neptune\u001b[38;5;241m=\u001b[39m\u001b[38;5;28;01mFalse\u001b[39;00m, use_conditional\u001b[38;5;241m=\u001b[39m\u001b[38;5;28;01mTrue\u001b[39;00m, context_type\u001b[38;5;241m=\u001b[39m\u001b[38;5;124m'\u001b[39m\u001b[38;5;124mbackbone\u001b[39m\u001b[38;5;124m'\u001b[39m, layer_type\u001b[38;5;241m=\u001b[39m\u001b[38;5;124m'\u001b[39m\u001b[38;5;124mconcatsquash\u001b[39m\u001b[38;5;124m'\u001b[39m, dims\u001b[38;5;241m=\u001b[39m\u001b[38;5;124m'\u001b[39m\u001b[38;5;124m32-32\u001b[39m\u001b[38;5;124m'\u001b[39m, num_blocks\u001b[38;5;241m=\u001b[39m\u001b[38;5;241m2\u001b[39m, time_length\u001b[38;5;241m=\u001b[39m\u001b[38;5;241m0.5\u001b[39m, train_T\u001b[38;5;241m=\u001b[39m\u001b[38;5;28;01mFalse\u001b[39;00m, add_noise\u001b[38;5;241m=\u001b[39m\u001b[38;5;28;01mFalse\u001b[39;00m, divergence_fn\u001b[38;5;241m=\u001b[39m\u001b[38;5;124m'\u001b[39m\u001b[38;5;124mbrute_force\u001b[39m\u001b[38;5;124m'\u001b[39m, nonlinearity\u001b[38;5;241m=\u001b[39m\u001b[38;5;124m'\u001b[39m\u001b[38;5;124mtanh\u001b[39m\u001b[38;5;124m'\u001b[39m, solver\u001b[38;5;241m=\u001b[39m\u001b[38;5;124m'\u001b[39m\u001b[38;5;124mdopri5\u001b[39m\u001b[38;5;124m'\u001b[39m, atol\u001b[38;5;241m=\u001b[39m\u001b[38;5;241m1e-05\u001b[39m, rtol\u001b[38;5;241m=\u001b[39m\u001b[38;5;241m1e-05\u001b[39m, step_size\u001b[38;5;241m=\u001b[39m\u001b[38;5;28;01mNone\u001b[39;00m, test_solver\u001b[38;5;241m=\u001b[39m\u001b[38;5;28;01mNone\u001b[39;00m, test_atol\u001b[38;5;241m=\u001b[39m\u001b[38;5;28;01mNone\u001b[39;00m, test_rtol\u001b[38;5;241m=\u001b[39m\u001b[38;5;28;01mNone\u001b[39;00m, residual\u001b[38;5;241m=\u001b[39m\u001b[38;5;28;01mFalse\u001b[39;00m, rademacher\u001b[38;5;241m=\u001b[39m\u001b[38;5;28;01mFalse\u001b[39;00m, spectral_norm\u001b[38;5;241m=\u001b[39m\u001b[38;5;28;01mFalse\u001b[39;00m, batch_norm\u001b[38;5;241m=\u001b[39m\u001b[38;5;28;01mFalse\u001b[39;00m, bn_lag\u001b[38;5;241m=\u001b[39m\u001b[38;5;241m0\u001b[39m, l1int\u001b[38;5;241m=\u001b[39m\u001b[38;5;28;01mNone\u001b[39;00m, l2int\u001b[38;5;241m=\u001b[39m\u001b[38;5;28;01mNone\u001b[39;00m, dl2int\u001b[38;5;241m=\u001b[39m\u001b[38;5;28;01mNone\u001b[39;00m, JFrobint\u001b[38;5;241m=\u001b[39m\u001b[38;5;28;01mNone\u001b[39;00m, JdiagFrobint\u001b[38;5;241m=\u001b[39m\u001b[38;5;28;01mNone\u001b[39;00m, JoffdiagFrobint\u001b[38;5;241m=\u001b[39m\u001b[38;5;28;01mNone\u001b[39;00m, start_epoch\u001b[38;5;241m=\u001b[39m\u001b[38;5;241m0\u001b[39m, stop_epoch\u001b[38;5;241m=\u001b[39m\u001b[38;5;241m100\u001b[39m, test\u001b[38;5;241m=\u001b[39m\u001b[38;5;28;01mFalse\u001b[39;00m, n_support\u001b[38;5;241m=\u001b[39m\u001b[38;5;241m5\u001b[39m, n_test_epochs\u001b[38;5;241m=\u001b[39m\u001b[38;5;241m10\u001b[39m, out_of_range\u001b[38;5;241m=\u001b[39m\u001b[38;5;28;01mFalse\u001b[39;00m, device\u001b[38;5;241m=\u001b[39m\u001b[38;5;124m'\u001b[39m\u001b[38;5;124mcuda\u001b[39m\u001b[38;5;124m'\u001b[39m)\n",
      "File \u001b[0;32m~/anaconda3/lib/python3.11/site-packages/numpy/lib/npyio.py:405\u001b[0m, in \u001b[0;36mload\u001b[0;34m(file, mmap_mode, allow_pickle, fix_imports, encoding, max_header_size)\u001b[0m\n\u001b[1;32m    403\u001b[0m     own_fid \u001b[38;5;241m=\u001b[39m \u001b[38;5;28;01mFalse\u001b[39;00m\n\u001b[1;32m    404\u001b[0m \u001b[38;5;28;01melse\u001b[39;00m:\n\u001b[0;32m--> 405\u001b[0m     fid \u001b[38;5;241m=\u001b[39m stack\u001b[38;5;241m.\u001b[39menter_context(\u001b[38;5;28mopen\u001b[39m(os_fspath(file), \u001b[38;5;124m\"\u001b[39m\u001b[38;5;124mrb\u001b[39m\u001b[38;5;124m\"\u001b[39m))\n\u001b[1;32m    406\u001b[0m     own_fid \u001b[38;5;241m=\u001b[39m \u001b[38;5;28;01mTrue\u001b[39;00m\n\u001b[1;32m    408\u001b[0m \u001b[38;5;66;03m# Code to distinguish from NumPy binary files and pickles.\u001b[39;00m\n",
      "\u001b[0;31mFileNotFoundError\u001b[0m: [Errno 2] No such file or directory: '/Users/jessegill/Desktop/nggp/nggp_lib/save/nggp_rbf_neural --kernel_type rbf --stop_epoch 50000 --all_lr 1e-3 --use_conditional True --context_type backbone /checkpoints/neural/MLP2_NGGP_model.th'"
     ]
    }
   ],
   "source": [
    "save_path_th = '/Users/jessegill/Desktop/nggp/nggp_lib/save/nggp_rbf_neural --kernel_type rbf --stop_epoch 50000 --all_lr 1e-3 --use_conditional True --context_type backbone /checkpoints/neural/MLP2_NGGP_model.th'\n",
    "data = np.load('/Users/jessegill/Desktop/nggp/nggp_lib/save/nggp_rbf_neural --kernel_type rbf --stop_epoch 50000 --all_lr 1e-3 --use_conditional True --context_type backbone /checkpoints/neural/MLP2_NGGP_model.th', allow_pickle = True)\n",
    "params = Namespace(seed=1, model='MLP2', method='NGGP', dataset='neural', update_batch_size=5, meta_batch_size=5, output_dim=40, multidimensional_amp=False, multidimensional_phase=False, noise='gaussian', kernel_type='rbf', save_dir='./save/nggp_rbf_neural --kernel_type rbf --stop_epoch 50000 --all_lr 1e-3 --use_conditional True --context_type backbone ', num_tasks=1, multi_type=3, method_lr=0.001, feature_extractor_lr=0.001, cnf_lr=0.001, all_lr=None, neptune=False, use_conditional=True, context_type='backbone', layer_type='concatsquash', dims='32-32', num_blocks=2, time_length=0.5, train_T=False, add_noise=False, divergence_fn='brute_force', nonlinearity='tanh', solver='dopri5', atol=1e-05, rtol=1e-05, step_size=None, test_solver=None, test_atol=None, test_rtol=None, residual=False, rademacher=False, spectral_norm=False, batch_norm=False, bn_lag=0, l1int=None, l2int=None, dl2int=None, JFrobint=None, JdiagFrobint=None, JoffdiagFrobint=None, start_epoch=0, stop_epoch=100, test=False, n_support=5, n_test_epochs=10, out_of_range=False, device='cuda')\n"
   ]
  },
  {
   "cell_type": "code",
   "execution_count": null,
   "id": "9be94cae",
   "metadata": {},
   "outputs": [],
   "source": [
    "'/Users/jessegill/Desktop/nggp/nggp_lib/save/nggp_rbf_neural --kernel_type rbf --stop_epoch 50000 --all_lr 1e-3 --use_conditional True --context_type backbone \n",
    "\n",
    "\n",
    "/checkpoints/neural/MLP2_NGGP_model.th'"
   ]
  },
  {
   "cell_type": "code",
   "execution_count": 7,
   "id": "378c1b19",
   "metadata": {},
   "outputs": [
    {
     "name": "stdout",
     "output_type": "stream",
     "text": [
      "Device type: <class 'str'>\n",
      "Device type: <class 'str'>\n"
     ]
    }
   ],
   "source": [
    "run = False\n",
    "setup_seed(params)\n",
    "config = Config(params)\n",
    "checkpoint_dir, save_path = setup_checkpoint_dir(params)\n",
    "\n",
    "results_logger = ResultsLogger(params)\n",
    "\n",
    "\n",
    "device = 'cpu'\n",
    "logging.info('Device: {}'.format(device))\n",
    "\n",
    "bb = setup_backbone(device, params)\n",
    "model = setup_model(bb, config, device, params)\n",
    "optimizer = setup_optimizer(model, params)\n",
    "\n",
    "if params.test and run:\n",
    "    test(model, params, save_path, results_logger)\n",
    "elif run:\n",
    "    train(model, optimizer, params, save_path, results_logger)\n",
    "model.load_checkpoint(save_path_th, device)"
   ]
  },
  {
   "cell_type": "code",
   "execution_count": 33,
   "id": "e7e455e7",
   "metadata": {},
   "outputs": [],
   "source": [
    "neural_loader = NeuralDatasetLoader()\n",
    "batch = neural_loader.get_batch()"
   ]
  },
  {
   "cell_type": "code",
   "execution_count": 40,
   "id": "c94b978c",
   "metadata": {},
   "outputs": [
    {
     "name": "stdout",
     "output_type": "stream",
     "text": [
      "Device type: <class 'str'>\n",
      "Device type: <class 'str'>\n"
     ]
    },
    {
     "ename": "FileNotFoundError",
     "evalue": "[Errno 2] No such file or directory: './save/nggp_rbf_neural --kernel_type rbf --stop_epoch 50000 --all_lr 1e-3 --use_conditional True --context_type backbone /checkpoints/neural/MLP2_NGGP_model.th'",
     "output_type": "error",
     "traceback": [
      "\u001b[0;31m---------------------------------------------------------------------------\u001b[0m",
      "\u001b[0;31mFileNotFoundError\u001b[0m                         Traceback (most recent call last)",
      "Cell \u001b[0;32mIn[40], line 18\u001b[0m\n\u001b[1;32m     15\u001b[0m optimizer \u001b[38;5;241m=\u001b[39m setup_optimizer(model, params)\n\u001b[1;32m     17\u001b[0m \u001b[38;5;28;01mif\u001b[39;00m params\u001b[38;5;241m.\u001b[39mtest \u001b[38;5;129;01mand\u001b[39;00m run:\n\u001b[0;32m---> 18\u001b[0m     test(model, params, save_path, results_logger)\n\u001b[1;32m     19\u001b[0m \u001b[38;5;28;01melif\u001b[39;00m run:\n\u001b[1;32m     20\u001b[0m     train(model, optimizer, params, save_path, results_logger)\n",
      "File \u001b[0;32m~/Desktop/nggp/nggp_lib/run_regression.py:50\u001b[0m, in \u001b[0;36mtest\u001b[0;34m(model, params, save_path, results_logger)\u001b[0m\n\u001b[1;32m     49\u001b[0m \u001b[38;5;28;01mdef\u001b[39;00m \u001b[38;5;21mtest\u001b[39m(model, params, save_path, results_logger):\n\u001b[0;32m---> 50\u001b[0m     model\u001b[38;5;241m.\u001b[39mload_checkpoint(save_path, device\u001b[38;5;241m=\u001b[39mparams\u001b[38;5;241m.\u001b[39mdevice)\n\u001b[1;32m     54\u001b[0m     \u001b[38;5;28;01mfor\u001b[39;00m epoch \u001b[38;5;129;01min\u001b[39;00m \u001b[38;5;28mrange\u001b[39m(params\u001b[38;5;241m.\u001b[39mn_test_epochs):\n\u001b[1;32m     55\u001b[0m         res \u001b[38;5;241m=\u001b[39m model\u001b[38;5;241m.\u001b[39mtest_loop(params\u001b[38;5;241m.\u001b[39mn_support, params, os\u001b[38;5;241m.\u001b[39mpath\u001b[38;5;241m.\u001b[39mdirname(save_path))\n",
      "File \u001b[0;32m~/Desktop/nggp/nggp_lib/methods/regression_methods.py:502\u001b[0m, in \u001b[0;36mNGGP.load_checkpoint\u001b[0;34m(self, checkpoint, device)\u001b[0m\n\u001b[1;32m    501\u001b[0m \u001b[38;5;28;01mdef\u001b[39;00m \u001b[38;5;21mload_checkpoint\u001b[39m(\u001b[38;5;28mself\u001b[39m, checkpoint, device):\n\u001b[0;32m--> 502\u001b[0m     ckpt \u001b[38;5;241m=\u001b[39m torch\u001b[38;5;241m.\u001b[39mload(checkpoint,map_location\u001b[38;5;241m=\u001b[39mdevice)    \n\u001b[1;32m    503\u001b[0m     \u001b[38;5;28mself\u001b[39m\u001b[38;5;241m.\u001b[39mmodel\u001b[38;5;241m.\u001b[39mload_state_dict(ckpt[\u001b[38;5;124m'\u001b[39m\u001b[38;5;124mgp\u001b[39m\u001b[38;5;124m'\u001b[39m])\n\u001b[1;32m    504\u001b[0m     \u001b[38;5;28mself\u001b[39m\u001b[38;5;241m.\u001b[39mlikelihood\u001b[38;5;241m.\u001b[39mload_state_dict(ckpt[\u001b[38;5;124m'\u001b[39m\u001b[38;5;124mlikelihood\u001b[39m\u001b[38;5;124m'\u001b[39m])\n",
      "File \u001b[0;32m~/anaconda3/lib/python3.11/site-packages/torch/serialization.py:791\u001b[0m, in \u001b[0;36mload\u001b[0;34m(f, map_location, pickle_module, weights_only, **pickle_load_args)\u001b[0m\n\u001b[1;32m    788\u001b[0m \u001b[38;5;28;01mif\u001b[39;00m \u001b[38;5;124m'\u001b[39m\u001b[38;5;124mencoding\u001b[39m\u001b[38;5;124m'\u001b[39m \u001b[38;5;129;01mnot\u001b[39;00m \u001b[38;5;129;01min\u001b[39;00m pickle_load_args\u001b[38;5;241m.\u001b[39mkeys():\n\u001b[1;32m    789\u001b[0m     pickle_load_args[\u001b[38;5;124m'\u001b[39m\u001b[38;5;124mencoding\u001b[39m\u001b[38;5;124m'\u001b[39m] \u001b[38;5;241m=\u001b[39m \u001b[38;5;124m'\u001b[39m\u001b[38;5;124mutf-8\u001b[39m\u001b[38;5;124m'\u001b[39m\n\u001b[0;32m--> 791\u001b[0m \u001b[38;5;28;01mwith\u001b[39;00m _open_file_like(f, \u001b[38;5;124m'\u001b[39m\u001b[38;5;124mrb\u001b[39m\u001b[38;5;124m'\u001b[39m) \u001b[38;5;28;01mas\u001b[39;00m opened_file:\n\u001b[1;32m    792\u001b[0m     \u001b[38;5;28;01mif\u001b[39;00m _is_zipfile(opened_file):\n\u001b[1;32m    793\u001b[0m         \u001b[38;5;66;03m# The zipfile reader is going to advance the current file position.\u001b[39;00m\n\u001b[1;32m    794\u001b[0m         \u001b[38;5;66;03m# If we want to actually tail call to torch.jit.load, we need to\u001b[39;00m\n\u001b[1;32m    795\u001b[0m         \u001b[38;5;66;03m# reset back to the original position.\u001b[39;00m\n\u001b[1;32m    796\u001b[0m         orig_position \u001b[38;5;241m=\u001b[39m opened_file\u001b[38;5;241m.\u001b[39mtell()\n",
      "File \u001b[0;32m~/anaconda3/lib/python3.11/site-packages/torch/serialization.py:271\u001b[0m, in \u001b[0;36m_open_file_like\u001b[0;34m(name_or_buffer, mode)\u001b[0m\n\u001b[1;32m    269\u001b[0m \u001b[38;5;28;01mdef\u001b[39;00m \u001b[38;5;21m_open_file_like\u001b[39m(name_or_buffer, mode):\n\u001b[1;32m    270\u001b[0m     \u001b[38;5;28;01mif\u001b[39;00m _is_path(name_or_buffer):\n\u001b[0;32m--> 271\u001b[0m         \u001b[38;5;28;01mreturn\u001b[39;00m _open_file(name_or_buffer, mode)\n\u001b[1;32m    272\u001b[0m     \u001b[38;5;28;01melse\u001b[39;00m:\n\u001b[1;32m    273\u001b[0m         \u001b[38;5;28;01mif\u001b[39;00m \u001b[38;5;124m'\u001b[39m\u001b[38;5;124mw\u001b[39m\u001b[38;5;124m'\u001b[39m \u001b[38;5;129;01min\u001b[39;00m mode:\n",
      "File \u001b[0;32m~/anaconda3/lib/python3.11/site-packages/torch/serialization.py:252\u001b[0m, in \u001b[0;36m_open_file.__init__\u001b[0;34m(self, name, mode)\u001b[0m\n\u001b[1;32m    251\u001b[0m \u001b[38;5;28;01mdef\u001b[39;00m \u001b[38;5;21m__init__\u001b[39m(\u001b[38;5;28mself\u001b[39m, name, mode):\n\u001b[0;32m--> 252\u001b[0m     \u001b[38;5;28msuper\u001b[39m()\u001b[38;5;241m.\u001b[39m\u001b[38;5;21m__init__\u001b[39m(\u001b[38;5;28mopen\u001b[39m(name, mode))\n",
      "\u001b[0;31mFileNotFoundError\u001b[0m: [Errno 2] No such file or directory: './save/nggp_rbf_neural --kernel_type rbf --stop_epoch 50000 --all_lr 1e-3 --use_conditional True --context_type backbone /checkpoints/neural/MLP2_NGGP_model.th'"
     ]
    }
   ],
   "source": [
    "run = True\n",
    "params = Namespace(seed=1, model='MLP2', method='NGGP', dataset='neural', update_batch_size=5, meta_batch_size=5, output_dim=40, multidimensional_amp=False, multidimensional_phase=False, noise='gaussian', kernel_type='rbf', save_dir='./save/nggp_rbf_neural --kernel_type rbf --stop_epoch 50000 --all_lr 1e-3 --use_conditional True --context_type backbone ', num_tasks=1, multi_type=3, method_lr=0.001, feature_extractor_lr=0.001, cnf_lr=0.001, all_lr=None, neptune=False, use_conditional=True, context_type='backbone', layer_type='concatsquash', dims='32-32', num_blocks=2, time_length=0.5, train_T=False, add_noise=False, divergence_fn='brute_force', nonlinearity='tanh', solver='dopri5', atol=1e-05, rtol=1e-05, step_size=None, test_solver=None, test_atol=None, test_rtol=None, residual=False, rademacher=False, spectral_norm=False, batch_norm=False, bn_lag=0, l1int=None, l2int=None, dl2int=None, JFrobint=None, JdiagFrobint=None, JoffdiagFrobint=None, start_epoch=0, stop_epoch=100,  n_support=5, n_test_epochs=10, out_of_range=False, device='cuda', test = True)\n",
    "setup_seed(params)\n",
    "config = Config(params)\n",
    "checkpoint_dir, save_path = setup_checkpoint_dir(params)\n",
    "\n",
    "results_logger = ResultsLogger(params)\n",
    "\n",
    "\n",
    "device = 'cpu'\n",
    "logging.info('Device: {}'.format(device))\n",
    "\n",
    "bb = setup_backbone(device, params)\n",
    "model = setup_model(bb, config, device, params)\n",
    "optimizer = setup_optimizer(model, params)\n",
    "\n",
    "if params.test and run:\n",
    "    test(model, params, save_path, results_logger)\n",
    "elif run:\n",
    "    train(model, optimizer, params, save_path, results_logger)\n",
    "\n",
    "\n"
   ]
  }
 ],
 "metadata": {
  "kernelspec": {
   "display_name": "Python 3 (ipykernel)",
   "language": "python",
   "name": "python3"
  },
  "language_info": {
   "codemirror_mode": {
    "name": "ipython",
    "version": 3
   },
   "file_extension": ".py",
   "mimetype": "text/x-python",
   "name": "python",
   "nbconvert_exporter": "python",
   "pygments_lexer": "ipython3",
   "version": "3.11.4"
  }
 },
 "nbformat": 4,
 "nbformat_minor": 5
}
