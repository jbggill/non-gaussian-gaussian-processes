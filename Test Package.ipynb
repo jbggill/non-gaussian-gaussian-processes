{
 "cells": [
  {
   "cell_type": "code",
   "execution_count": 1,
   "id": "32c1aea9",
   "metadata": {},
   "outputs": [
    {
     "ename": "ModuleNotFoundError",
     "evalue": "No module named 'nggp_lib'",
     "output_type": "error",
     "traceback": [
      "\u001b[0;31m---------------------------------------------------------------------------\u001b[0m",
      "\u001b[0;31mModuleNotFoundError\u001b[0m                       Traceback (most recent call last)",
      "Cell \u001b[0;32mIn[1], line 2\u001b[0m\n\u001b[1;32m      1\u001b[0m \u001b[38;5;28;01mimport\u001b[39;00m \u001b[38;5;21;01mnumpy\u001b[39;00m \u001b[38;5;28;01mas\u001b[39;00m \u001b[38;5;21;01mnp\u001b[39;00m\n\u001b[0;32m----> 2\u001b[0m \u001b[38;5;28;01mfrom\u001b[39;00m \u001b[38;5;21;01mmethods\u001b[39;00m\u001b[38;5;21;01m.\u001b[39;00m\u001b[38;5;21;01mregression_methods\u001b[39;00m \u001b[38;5;28;01mimport\u001b[39;00m NGGP, get_transforms\n\u001b[1;32m      3\u001b[0m \u001b[38;5;28;01mfrom\u001b[39;00m \u001b[38;5;21;01mrun_regression\u001b[39;00m \u001b[38;5;28;01mimport\u001b[39;00m \u001b[38;5;241m*\u001b[39m\n\u001b[1;32m      4\u001b[0m \u001b[38;5;28;01mfrom\u001b[39;00m \u001b[38;5;21;01mtraining\u001b[39;00m\u001b[38;5;21;01m.\u001b[39;00m\u001b[38;5;21;01mconfigs\u001b[39;00m \u001b[38;5;28;01mimport\u001b[39;00m Config \u001b[38;5;28;01mas\u001b[39;00m config\n",
      "File \u001b[0;32m~/Desktop/nggp/nggp_lib/methods/regression_methods.py:7\u001b[0m\n\u001b[1;32m      5\u001b[0m \u001b[38;5;28;01mfrom\u001b[39;00m \u001b[38;5;21;01mgpytorch\u001b[39;00m\u001b[38;5;21;01m.\u001b[39;00m\u001b[38;5;21;01mconstraints\u001b[39;00m \u001b[38;5;28;01mimport\u001b[39;00m GreaterThan\n\u001b[1;32m      6\u001b[0m \u001b[38;5;28;01mfrom\u001b[39;00m \u001b[38;5;21;01mgpytorch\u001b[39;00m\u001b[38;5;21;01m.\u001b[39;00m\u001b[38;5;21;01mpriors\u001b[39;00m \u001b[38;5;28;01mimport\u001b[39;00m UniformPrior\n\u001b[0;32m----> 7\u001b[0m \u001b[38;5;28;01mfrom\u001b[39;00m \u001b[38;5;21;01mnggp_lib\u001b[39;00m\u001b[38;5;21;01m.\u001b[39;00m\u001b[38;5;21;01mdata\u001b[39;00m\u001b[38;5;21;01m.\u001b[39;00m\u001b[38;5;21;01mdata_generator\u001b[39;00m \u001b[38;5;28;01mimport\u001b[39;00m SinusoidalDataGenerator, Nasdaq100padding\n\u001b[1;32m      8\u001b[0m \u001b[38;5;28;01mimport\u001b[39;00m \u001b[38;5;21;01mos\u001b[39;00m\n\u001b[1;32m      9\u001b[0m \u001b[38;5;66;03m#from data.qmul_loader import get_batch, train_people, test_people\u001b[39;00m\n\u001b[1;32m     10\u001b[0m \u001b[38;5;66;03m# import neural loader\u001b[39;00m\n",
      "\u001b[0;31mModuleNotFoundError\u001b[0m: No module named 'nggp_lib'"
     ]
    }
   ],
   "source": [
    "import numpy as np\n",
    "from methods.regression_methods import NGGP, get_transforms\n",
    "from run_regression import *\n",
    "from training.configs import Config as config\n",
    "from models import backbone\n",
    "import torch\n",
    "from argparse import Namespace\n",
    "from data.neural_loader import *\n",
    "from torch import tensor\n",
    "import gpytorch\n",
    "import matplotlib.pyplot as plt"
   ]
  },
  {
   "cell_type": "code",
   "execution_count": null,
   "id": "baa0a37f",
   "metadata": {},
   "outputs": [],
   "source": [
    "save_path_th = '/Users/jessegill/Desktop/nggp/nggp_lib/save/nggp_rbf_5e3/checkpoints/neural/MLP2_NGGP_model.th'\n",
    "data = torch.load(save_path_th)\n",
    "params = Namespace(seed=1, model='MLP2', method='NGGP', dataset='neural', update_batch_size=5, meta_batch_size=5, output_dim=40, multidimensional_amp=False, multidimensional_phase=False, noise='gaussian', kernel_type='rbf', save_dir='./save/nggp_rbf_5e3', num_tasks=1, multi_type=3, method_lr=0.001, feature_extractor_lr=0.001, cnf_lr=0.001, all_lr=0.005, neptune=False, use_conditional=False, context_type='backbone', layer_type='concatsquash', dims='32-32', num_blocks=2, time_length=0.5, train_T=False, add_noise=False, divergence_fn='brute_force', nonlinearity='tanh', solver='dopri5', atol=1e-05, rtol=1e-05, step_size=None, test_solver=None, test_atol=None, test_rtol=None, residual=False, rademacher=False, spectral_norm=False, batch_norm=False, bn_lag=0, l1int=None, l2int=None, dl2int=None, JFrobint=None, JdiagFrobint=None, JoffdiagFrobint=None, start_epoch=0, stop_epoch=100, test=False, n_support=5, n_test_epochs=10, out_of_range=False, device='cuda')"
   ]
  },
  {
   "cell_type": "code",
   "execution_count": null,
   "id": "b4d84b20",
   "metadata": {},
   "outputs": [],
   "source": [
    "save_path_th = '/Users/jessegill/Desktop/nggp/nggp_lib/save/sines_1e6/checkpoints/sines/MLP2_NGGP_model.th'\n",
    "params = Namespace(seed=1, model='MLP2', method='NGGP', dataset='sines', update_batch_size=5, meta_batch_size=5, output_dim=40, multidimensional_amp=False, multidimensional_phase=False, noise='gaussian', kernel_type='rbf', save_dir='./save/sines_1e6', num_tasks=1, multi_type=3, method_lr=0.001, feature_extractor_lr=0.001, cnf_lr=0.001, all_lr=1e-06, neptune=False, use_conditional=True, context_type='backbone', layer_type='concatsquash', dims='32-32', num_blocks=2, time_length=0.5, train_T=False, add_noise=False, divergence_fn='brute_force', nonlinearity='tanh', solver='dopri5', atol=1e-05, rtol=1e-05, step_size=None, test_solver=None, test_atol=None, test_rtol=None, residual=False, rademacher=False, spectral_norm=False, batch_norm=False, bn_lag=0, l1int=None, l2int=None, dl2int=None, JFrobint=None, JdiagFrobint=None, JoffdiagFrobint=None, start_epoch=0, stop_epoch=100, test=False, n_support=5, n_test_epochs=10, out_of_range=False, device='cuda')"
   ]
  },
  {
   "cell_type": "code",
   "execution_count": null,
   "id": "378c1b19",
   "metadata": {},
   "outputs": [],
   "source": [
    "run = True\n",
    "setup_seed(params)\n",
    "config = Config(params)\n",
    "checkpoint_dir, save_path = setup_checkpoint_dir(params)\n",
    "\n",
    "results_logger = ResultsLogger(params)\n",
    "\n",
    "\n",
    "device = 'cpu'\n",
    "logging.info('Device: {}'.format(device))\n",
    "\n",
    "bb = setup_backbone(device, params)\n",
    "nggp_model = setup_model(bb, config, device, params)\n",
    "optimizer = setup_optimizer(nggp_model, params)\n",
    "\n",
    "if params.test and run:\n",
    "    test(nggp_model, params, save_path, results_logger)\n",
    "elif run:\n",
    "    train(nggp_model, optimizer, params, save_path, results_logger)\n",
    "setup_checkpoint_dir(params)\n",
    "nggp_model.load_checkpoint(save_path_th, device)"
   ]
  },
  {
   "cell_type": "code",
   "execution_count": null,
   "id": "e7e455e7",
   "metadata": {},
   "outputs": [],
   "source": [
    "neural_loader = NeuralDatasetLoader()\n",
    "batch = neural_loader.get_batch()\n",
    "list(zip(batch[0],batch[1]))\n",
    "neural_loader.generate_datastack()"
   ]
  },
  {
   "cell_type": "code",
   "execution_count": null,
   "id": "06fbf9ec",
   "metadata": {},
   "outputs": [],
   "source": [
    "all_batches = []\n",
    "all_batch_labels = []\n",
    "while True:  # or some condition to end the loop\n",
    "    batch, batch_labels = neural_loader.get_batch()\n",
    "    if batch is None or batch_labels is None:\n",
    "        break  # Exit loop if there's no more data\n",
    "\n",
    "\n",
    "\n",
    "    all_batches.append(batch)\n",
    "    all_batch_labels.append(batch_labels)\n",
    "\n",
    "# Now, all_batches and all_batch_labels are lists of tensors, each representing a batch\n",
    "# Example: iterate through each batch\n",
    "dataloader = zip(all_batches,all_batch_labels)\n",
    "print(all_batch_labels)\n"
   ]
  },
  {
   "cell_type": "code",
   "execution_count": null,
   "id": "25bc1cd9",
   "metadata": {},
   "outputs": [],
   "source": [
    "sample_fn, _ = get_transforms(nggp_model.cnf, nggp_model.use_conditional)"
   ]
  },
  {
   "cell_type": "code",
   "execution_count": null,
   "id": "e7a4bdd4",
   "metadata": {},
   "outputs": [],
   "source": [
    "with open(\"/Users/jessegill/Desktop/nggp/data/ST260_Day1.pkl\", 'rb') as f:\n",
    "    data = pickle.load(f)\n",
    "\n",
    "data['time']"
   ]
  },
  {
   "cell_type": "code",
   "execution_count": null,
   "id": "48f0b594",
   "metadata": {},
   "outputs": [],
   "source": [
    "test_x = all_batches[0]\n",
    "test_labels = all_batch_labels[0]\n",
    "\n",
    "test_x = torch.linspace(0, 15, 3).unsqueeze(0).T\n",
    "\n",
    "test_x = data['time'][:40]\n",
    "test_x = torch.tensor(test_x, dtype=torch.float32).unsqueeze(1)  # reshape to (N, 1)"
   ]
  },
  {
   "cell_type": "code",
   "execution_count": null,
   "id": "f2df2aa8",
   "metadata": {},
   "outputs": [],
   "source": [
    "test_x = torch.tensor(np.linspace(0,10,40), dtype=torch.float32).unsqueeze(1)\n",
    "nggp_model.model.eval()  # Set the model to evaluation mode\n",
    "\n",
    "\n",
    "print(\"Original shape of test_x:\", test_x.shape)\n",
    "\n",
    "# If your model expects an input shape of [batch_size, N], reshape test_x accordingly\n",
    "# For example, if N is 40:\n",
    "#test_x = test_x.view(-1, 40)  # Reshape to [batch_size, 40]\n",
    "\n",
    "print(\"Reshaped test_x:\", test_x.shape)\n",
    "\n",
    "# Continue with the model prediction\n",
    "z = nggp_model.feature_extractor(test_x)\n",
    "\n",
    "with torch.no_grad(), gpytorch.settings.fast_pred_var():\n",
    "    predictions = nggp_model.model(z)\n",
    "    means = sample_fn(predictions.mean.unsqueeze(1))\n",
    "\n",
    "\n",
    "print(means)\n",
    "# Plot the mean predictions\n",
    "plt.figure(figsize=(10, 6))\n",
    "plt.plot(test_x, means)\n",
    "plt.title(\"Mean Prediction of Gaussian Process\")\n",
    "plt.xlabel(\"Input\")\n",
    "plt.ylabel(\"Mean Prediction\")\n",
    "plt.show()\n"
   ]
  }
 ],
 "metadata": {
  "kernelspec": {
   "display_name": "Python 3 (ipykernel)",
   "language": "python",
   "name": "python3"
  },
  "language_info": {
   "codemirror_mode": {
    "name": "ipython",
    "version": 3
   },
   "file_extension": ".py",
   "mimetype": "text/x-python",
   "name": "python",
   "nbconvert_exporter": "python",
   "pygments_lexer": "ipython3",
   "version": "3.11.4"
  }
 },
 "nbformat": 4,
 "nbformat_minor": 5
}
